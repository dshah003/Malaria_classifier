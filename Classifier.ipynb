{
 "cells": [
  {
   "cell_type": "code",
   "execution_count": 1,
   "metadata": {},
   "outputs": [],
   "source": [
    "import tensorflow as tf\n",
    "from tensorflow import keras\n",
    "import matplotlib.pyplot as plt\n",
    "import numpy as np\n",
    "import cv2\n",
    "import os\n",
    "from random import shuffle\n",
    "from tqdm import tqdm"
   ]
  },
  {
   "cell_type": "markdown",
   "metadata": {},
   "source": [
    "#### Define path to database"
   ]
  },
  {
   "cell_type": "code",
   "execution_count": 2,
   "metadata": {},
   "outputs": [],
   "source": [
    "cwd = os.getcwd()  #Get Path of Current Working Directory\n",
    "\n",
    "infected_train_data = cwd + '/cell_images/Train/infected'\n",
    "uninfected_train_data = cwd + '/cell_images/Train/uninfected'\n",
    "infected_test_data = cwd + '/cell_images/Test/infected'\n",
    "uninfected_test_data = cwd + '/cell_images/Test/uninfected'"
   ]
  },
  {
   "cell_type": "code",
   "execution_count": 3,
   "metadata": {},
   "outputs": [],
   "source": [
    "def one_hot_label(img, label):\n",
    "    if label == 0:\n",
    "        ohl = np.array([1,0])\n",
    "    elif label == 1:\n",
    "        ohl = np.array([0,1])\n",
    "    return ohl\n",
    "\n",
    "def load_train_data():\n",
    "    train_images = []\n",
    "    \n",
    "    label = 0  #For Infected Cells\n",
    "    print(\"Loading Training data for infected Cells\")\n",
    "    for i in tqdm(os.listdir(infected_train_data)):\n",
    "        path = os.path.join(infected_train_data, i)\n",
    "        try:\n",
    "            img = cv2.imread(path)\n",
    "            img = cv2.resize(img, (64,64))\n",
    "        except:\n",
    "            print(\"Error Loading this image: \", i) \n",
    "        train_images.append([np.array(img), one_hot_label(i, label)])\n",
    "    \n",
    "    label = 1 #For Uninfected\n",
    "    print(\"Loading Training data for uninfected Cells\")\n",
    "    for i in tqdm(os.listdir(uninfected_train_data)):\n",
    "        path = os.path.join(uninfected_train_data, i)\n",
    "        try:\n",
    "            img = cv2.imread(path)\n",
    "            img = cv2.resize(img, (64,64))\n",
    "        except:\n",
    "            print(\"Error Loading this image: \", i) \n",
    "        train_images.append([np.array(img), one_hot_label(i, label)])\n",
    "    \n",
    "    shuffle(train_images)\n",
    "    return train_images\n",
    "\n",
    "def load_test_data():\n",
    "    test_images = []\n",
    "    \n",
    "    label = 0\n",
    "    print(\"Loading Test data for infected Cells\")\n",
    "    for i in tqdm(os.listdir(infected_test_data)):\n",
    "        path = os.path.join(infected_test_data, i)\n",
    "        try:\n",
    "            img = cv2.imread(path)\n",
    "            img = cv2.resize(img, (64,64))\n",
    "        except:\n",
    "            print(\"Error Loading this image: \", i)            \n",
    "        test_images.append([np.array(img), one_hot_label(i, label)])\n",
    "    \n",
    "    label = 1\n",
    "    print(\"Loading Test data for uninfected Cells\")\n",
    "    for i in tqdm(os.listdir(uninfected_test_data)):\n",
    "        path = os.path.join(uninfected_test_data, i)\n",
    "        try:\n",
    "            img = cv2.imread(path)\n",
    "            img = cv2.resize(img, (64,64))\n",
    "        except:\n",
    "            print(\"Error Loading this image: \", i)\n",
    "        test_images.append([np.array(img), one_hot_label(i, label)])\n",
    "    return test_images   "
   ]
  },
  {
   "cell_type": "code",
   "execution_count": 4,
   "metadata": {},
   "outputs": [
    {
     "name": "stderr",
     "output_type": "stream",
     "text": [
      "  1%|▏         | 166/12779 [00:00<00:07, 1658.62it/s]"
     ]
    },
    {
     "name": "stdout",
     "output_type": "stream",
     "text": [
      "Loading Training data for infected Cells\n"
     ]
    },
    {
     "name": "stderr",
     "output_type": "stream",
     "text": [
      "100%|██████████| 12779/12779 [00:07<00:00, 1742.24it/s]\n",
      "  1%|▏         | 187/12779 [00:00<00:06, 1867.33it/s]"
     ]
    },
    {
     "name": "stdout",
     "output_type": "stream",
     "text": [
      "Loading Training data for uninfected Cells\n"
     ]
    },
    {
     "name": "stderr",
     "output_type": "stream",
     "text": [
      "100%|██████████| 12779/12779 [00:06<00:00, 1914.11it/s]\n",
      " 18%|█▊        | 181/1000 [00:00<00:00, 1806.13it/s]"
     ]
    },
    {
     "name": "stdout",
     "output_type": "stream",
     "text": [
      "Loading Test data for infected Cells\n"
     ]
    },
    {
     "name": "stderr",
     "output_type": "stream",
     "text": [
      "100%|██████████| 1000/1000 [00:00<00:00, 1774.76it/s]\n",
      " 20%|█▉        | 195/1000 [00:00<00:00, 1943.60it/s]"
     ]
    },
    {
     "name": "stdout",
     "output_type": "stream",
     "text": [
      "Loading Test data for uninfected Cells\n"
     ]
    },
    {
     "name": "stderr",
     "output_type": "stream",
     "text": [
      "100%|██████████| 1000/1000 [00:00<00:00, 1771.13it/s]\n"
     ]
    }
   ],
   "source": [
    "training_images = load_train_data()\n",
    "testing_images = load_test_data()"
   ]
  },
  {
   "cell_type": "code",
   "execution_count": null,
   "metadata": {},
   "outputs": [],
   "source": []
  },
  {
   "cell_type": "code",
   "execution_count": null,
   "metadata": {},
   "outputs": [],
   "source": []
  },
  {
   "cell_type": "code",
   "execution_count": null,
   "metadata": {},
   "outputs": [],
   "source": []
  },
  {
   "cell_type": "code",
   "execution_count": null,
   "metadata": {},
   "outputs": [],
   "source": []
  },
  {
   "cell_type": "code",
   "execution_count": null,
   "metadata": {},
   "outputs": [],
   "source": []
  },
  {
   "cell_type": "code",
   "execution_count": null,
   "metadata": {},
   "outputs": [],
   "source": []
  },
  {
   "cell_type": "code",
   "execution_count": null,
   "metadata": {},
   "outputs": [],
   "source": []
  },
  {
   "cell_type": "code",
   "execution_count": null,
   "metadata": {},
   "outputs": [],
   "source": []
  },
  {
   "cell_type": "code",
   "execution_count": null,
   "metadata": {},
   "outputs": [],
   "source": []
  },
  {
   "cell_type": "code",
   "execution_count": null,
   "metadata": {},
   "outputs": [],
   "source": []
  },
  {
   "cell_type": "code",
   "execution_count": null,
   "metadata": {},
   "outputs": [],
   "source": []
  },
  {
   "cell_type": "code",
   "execution_count": null,
   "metadata": {},
   "outputs": [],
   "source": []
  }
 ],
 "metadata": {
  "kernelspec": {
   "display_name": "Python 2",
   "language": "python",
   "name": "python2"
  },
  "language_info": {
   "codemirror_mode": {
    "name": "ipython",
    "version": 2
   },
   "file_extension": ".py",
   "mimetype": "text/x-python",
   "name": "python",
   "nbconvert_exporter": "python",
   "pygments_lexer": "ipython2",
   "version": "2.7.12"
  }
 },
 "nbformat": 4,
 "nbformat_minor": 2
}
