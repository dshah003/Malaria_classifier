{
 "cells": [
  {
   "cell_type": "markdown",
   "metadata": {},
   "source": [
    "# Malaria Diseased Cell Classification"
   ]
  },
  {
   "cell_type": "code",
   "execution_count": 1,
   "metadata": {},
   "outputs": [
    {
     "name": "stderr",
     "output_type": "stream",
     "text": [
      "Using TensorFlow backend.\n"
     ]
    }
   ],
   "source": [
    "import tensorflow as tf\n",
    "from tensorflow import keras\n",
    "import matplotlib.pyplot as plt\n",
    "import numpy as np\n",
    "import cv2\n",
    "import os\n",
    "from random import shuffle\n",
    "from tqdm import tqdm\n",
    "\n",
    "from keras.models import Sequential\n",
    "from keras.models import model\n",
    "from keras.layers import *\n",
    "from keras.optimizers import *"
   ]
  },
  {
   "cell_type": "markdown",
   "metadata": {},
   "source": [
    "#### Define path to database"
   ]
  },
  {
   "cell_type": "code",
   "execution_count": 2,
   "metadata": {},
   "outputs": [],
   "source": [
    "cwd = os.getcwd()  #Get Path of Current Working Directory\n",
    "\n",
    "infected_train_data = cwd + '/cell_images/Train/infected'\n",
    "uninfected_train_data = cwd + '/cell_images/Train/uninfected'\n",
    "infected_test_data = cwd + '/cell_images/Test/infected'\n",
    "uninfected_test_data = cwd + '/cell_images/Test/uninfected'"
   ]
  },
  {
   "cell_type": "markdown",
   "metadata": {},
   "source": [
    "#### Define Hyper-parameters"
   ]
  },
  {
   "cell_type": "code",
   "execution_count": 3,
   "metadata": {},
   "outputs": [],
   "source": [
    "num_epochs = 50\n",
    "size_batch = 50\n",
    "alpha = 0.0001"
   ]
  },
  {
   "cell_type": "code",
   "execution_count": 4,
   "metadata": {},
   "outputs": [],
   "source": [
    "def one_hot_label(img, label):\n",
    "    if label == 0:\n",
    "        ohl = np.array([1,0])\n",
    "    elif label == 1:\n",
    "        ohl = np.array([0,1])\n",
    "    return ohl\n",
    "\n",
    "def load_train_data():\n",
    "    train_images = []\n",
    "    \n",
    "    label = 0  #For Infected Cells\n",
    "#     print(\"Loading Training data for infected Cells\")\n",
    "    for i in tqdm(os.listdir(infected_train_data)):\n",
    "        path = os.path.join(infected_train_data, i)\n",
    "        try:\n",
    "            img = cv2.imread(path)\n",
    "            img = cv2.resize(img, (64,64))\n",
    "        except:\n",
    "            print(\"Error Loading this image: \", i) \n",
    "        train_images.append([np.array(img), one_hot_label(i, label)])\n",
    "    \n",
    "    label = 1 #For Uninfected\n",
    "#     print(\"Loading Training data for uninfected Cells\")\n",
    "    for i in tqdm(os.listdir(uninfected_train_data)):\n",
    "        path = os.path.join(uninfected_train_data, i)\n",
    "        try:\n",
    "            img = cv2.imread(path)\n",
    "            img = cv2.resize(img, (64,64))\n",
    "        except:\n",
    "            print(\"Error Loading this image: \", i) \n",
    "        train_images.append([np.array(img), one_hot_label(i, label)])\n",
    "    \n",
    "    shuffle(train_images) #Shuffle data so every batch gets both, positives and negatives.\n",
    "    shuffle(train_images) #Just to be sure Lol!\n",
    "    return train_images\n",
    "\n",
    "def load_test_data():\n",
    "    test_images = []\n",
    "    \n",
    "    label = 0\n",
    "#     print(\"Loading Test data for infected Cells\")\n",
    "    for i in tqdm(os.listdir(infected_test_data)):\n",
    "        path = os.path.join(infected_test_data, i)\n",
    "        try:\n",
    "            img = cv2.imread(path)\n",
    "            img = cv2.resize(img, (64,64))\n",
    "        except:\n",
    "            print(\"Error Loading this image: \", i)            \n",
    "        test_images.append([np.array(img), one_hot_label(i, label)])\n",
    "    \n",
    "    label = 1\n",
    "#     print(\"Loading Test data for uninfected Cells\")\n",
    "    for i in tqdm(os.listdir(uninfected_test_data)):\n",
    "        path = os.path.join(uninfected_test_data, i)\n",
    "        try:\n",
    "            img = cv2.imread(path)\n",
    "            img = cv2.resize(img, (64,64))\n",
    "        except:\n",
    "            print(\"Error Loading this image: \", i)\n",
    "        test_images.append([np.array(img), one_hot_label(i, label)])\n",
    "    return test_images   "
   ]
  },
  {
   "cell_type": "code",
   "execution_count": 5,
   "metadata": {},
   "outputs": [
    {
     "name": "stderr",
     "output_type": "stream",
     "text": [
      "100%|██████████| 12779/12779 [00:07<00:00, 1720.84it/s]\n",
      "100%|██████████| 12779/12779 [00:06<00:00, 1914.31it/s]\n",
      "100%|██████████| 1000/1000 [00:00<00:00, 1774.52it/s]\n",
      "100%|██████████| 1000/1000 [00:00<00:00, 1947.68it/s]\n"
     ]
    }
   ],
   "source": [
    "training_images = load_train_data()\n",
    "testing_images = load_test_data()\n",
    "\n",
    "x_train = []\n",
    "y_train = []\n",
    "\n",
    "for k in training_images:\n",
    "    x_train.append(k[0])\n",
    "    y_train.append(k[1])\n",
    "\n",
    "x_train = np.array(x_train)\n",
    "y_train = np.array(y_train)"
   ]
  },
  {
   "cell_type": "markdown",
   "metadata": {},
   "source": [
    "### Define Model"
   ]
  },
  {
   "cell_type": "code",
   "execution_count": 6,
   "metadata": {},
   "outputs": [
    {
     "name": "stdout",
     "output_type": "stream",
     "text": [
      "WARNING:tensorflow:From /home/darshan/.virtualenvs/avisionpy2/local/lib/python2.7/site-packages/tensorflow/python/framework/op_def_library.py:263: colocate_with (from tensorflow.python.framework.ops) is deprecated and will be removed in a future version.\n",
      "Instructions for updating:\n",
      "Colocations handled automatically by placer.\n",
      "WARNING:tensorflow:From /home/darshan/.virtualenvs/avisionpy2/local/lib/python2.7/site-packages/keras/backend/tensorflow_backend.py:3445: calling dropout (from tensorflow.python.ops.nn_ops) with keep_prob is deprecated and will be removed in a future version.\n",
      "Instructions for updating:\n",
      "Please use `rate` instead of `keep_prob`. Rate should be set to `rate = 1 - keep_prob`.\n"
     ]
    }
   ],
   "source": [
    "model = Sequential()\n",
    "\n",
    "model.add(InputLayer(input_shape=[64,64,3]))\n",
    "model.add(Conv2D(filters = 32, kernel_size=5, strides=1, padding='same', activation='relu'))\n",
    "model.add(MaxPool2D(pool_size=5, padding='same'))\n",
    "\n",
    "model.add(Conv2D(filters = 50, kernel_size=5, strides=1, padding='same', activation='relu'))\n",
    "model.add(MaxPool2D(pool_size=5, padding='same'))\n",
    "\n",
    "model.add(Conv2D(filters = 80, kernel_size=5, strides=1, padding='same', activation='relu'))\n",
    "model.add(MaxPool2D(pool_size=5, padding='same'))\n",
    "\n",
    "model.add(Dropout(0.25))\n",
    "model.add(Flatten())\n",
    "model.add(Dense(512, activation = 'relu'))\n",
    "model.add(Dropout(0.5))\n",
    "model.add(Dense(2, activation = 'softmax'))\n",
    "optimizer = Adam(lr = alpha)\n",
    "\n",
    "\n",
    "model.compile(optimizer=optimizer, loss='categorical_crossentropy', metrics=['accuracy'])\n"
   ]
  },
  {
   "cell_type": "code",
   "execution_count": 9,
   "metadata": {},
   "outputs": [
    {
     "name": "stdout",
     "output_type": "stream",
     "text": [
      "WARNING:tensorflow:From /home/darshan/.virtualenvs/avisionpy2/local/lib/python2.7/site-packages/tensorflow/python/ops/math_ops.py:3066: to_int32 (from tensorflow.python.ops.math_ops) is deprecated and will be removed in a future version.\n",
      "Instructions for updating:\n",
      "Use tf.cast instead.\n",
      "Epoch 1/50\n",
      "25558/25558 [==============================] - 29s 1ms/step - loss: 1.2490 - acc: 0.5832\n",
      "Epoch 2/50\n",
      "25558/25558 [==============================] - 9s 333us/step - loss: 0.5598 - acc: 0.7117\n",
      "Epoch 3/50\n",
      "25558/25558 [==============================] - 8s 331us/step - loss: 0.4227 - acc: 0.8045\n",
      "Epoch 4/50\n",
      "25558/25558 [==============================] - 8s 328us/step - loss: 0.3071 - acc: 0.8676\n",
      "Epoch 5/50\n",
      "25558/25558 [==============================] - 8s 329us/step - loss: 0.2222 - acc: 0.9143\n",
      "Epoch 6/50\n",
      "25558/25558 [==============================] - 8s 330us/step - loss: 0.1913 - acc: 0.9289\n",
      "Epoch 7/50\n",
      "25558/25558 [==============================] - 9s 334us/step - loss: 0.1696 - acc: 0.9391\n",
      "Epoch 8/50\n",
      "25558/25558 [==============================] - 8s 331us/step - loss: 0.1558 - acc: 0.9441\n",
      "Epoch 9/50\n",
      "25558/25558 [==============================] - 9s 334us/step - loss: 0.1475 - acc: 0.9500\n",
      "Epoch 10/50\n",
      "25558/25558 [==============================] - 9s 333us/step - loss: 0.1373 - acc: 0.9530\n",
      "Epoch 11/50\n",
      "25558/25558 [==============================] - 9s 334us/step - loss: 0.1287 - acc: 0.9543\n",
      "Epoch 12/50\n",
      "25558/25558 [==============================] - 9s 333us/step - loss: 0.1211 - acc: 0.9571\n",
      "Epoch 13/50\n",
      "25558/25558 [==============================] - 9s 334us/step - loss: 0.1126 - acc: 0.9588\n",
      "Epoch 14/50\n",
      "25558/25558 [==============================] - 8s 333us/step - loss: 0.1086 - acc: 0.9618\n",
      "Epoch 15/50\n",
      "25558/25558 [==============================] - 9s 336us/step - loss: 0.1013 - acc: 0.9637\n",
      "Epoch 16/50\n",
      "25558/25558 [==============================] - 8s 332us/step - loss: 0.0954 - acc: 0.9652\n",
      "Epoch 17/50\n",
      "25558/25558 [==============================] - 9s 343us/step - loss: 0.0892 - acc: 0.9665\n",
      "Epoch 18/50\n",
      "25558/25558 [==============================] - 9s 339us/step - loss: 0.0843 - acc: 0.9691\n",
      "Epoch 19/50\n",
      "25558/25558 [==============================] - 9s 335us/step - loss: 0.0798 - acc: 0.9703\n",
      "Epoch 20/50\n",
      "25558/25558 [==============================] - 9s 337us/step - loss: 0.0732 - acc: 0.9732\n",
      "Epoch 21/50\n",
      "25558/25558 [==============================] - 9s 337us/step - loss: 0.0744 - acc: 0.9731\n",
      "Epoch 22/50\n",
      "25558/25558 [==============================] - 9s 350us/step - loss: 0.0642 - acc: 0.9755\n",
      "Epoch 23/50\n",
      "25558/25558 [==============================] - 9s 360us/step - loss: 0.0602 - acc: 0.9771\n",
      "Epoch 24/50\n",
      "25558/25558 [==============================] - 9s 338us/step - loss: 0.0567 - acc: 0.9804\n",
      "Epoch 25/50\n",
      "25558/25558 [==============================] - 9s 337us/step - loss: 0.0524 - acc: 0.9802\n",
      "Epoch 26/50\n",
      "25558/25558 [==============================] - 9s 337us/step - loss: 0.0495 - acc: 0.9814\n",
      "Epoch 27/50\n",
      "25558/25558 [==============================] - 9s 336us/step - loss: 0.0470 - acc: 0.9827\n",
      "Epoch 28/50\n",
      "25558/25558 [==============================] - 9s 338us/step - loss: 0.0449 - acc: 0.9832\n",
      "Epoch 29/50\n",
      "25558/25558 [==============================] - 9s 335us/step - loss: 0.0384 - acc: 0.9862\n",
      "Epoch 30/50\n",
      "25558/25558 [==============================] - 9s 335us/step - loss: 0.0425 - acc: 0.9843\n",
      "Epoch 31/50\n",
      "25558/25558 [==============================] - 9s 335us/step - loss: 0.0396 - acc: 0.9854\n",
      "Epoch 32/50\n",
      "25558/25558 [==============================] - 9s 356us/step - loss: 0.0353 - acc: 0.9872\n",
      "Epoch 33/50\n",
      "25558/25558 [==============================] - 9s 338us/step - loss: 0.0380 - acc: 0.9859\n",
      "Epoch 34/50\n",
      "25558/25558 [==============================] - 9s 342us/step - loss: 0.0310 - acc: 0.9894\n",
      "Epoch 35/50\n",
      "25558/25558 [==============================] - 8s 331us/step - loss: 0.0340 - acc: 0.9870\n",
      "Epoch 36/50\n",
      "25558/25558 [==============================] - 8s 332us/step - loss: 0.0284 - acc: 0.9897\n",
      "Epoch 37/50\n",
      "25558/25558 [==============================] - 9s 343us/step - loss: 0.0282 - acc: 0.9896\n",
      "Epoch 38/50\n",
      "25558/25558 [==============================] - 9s 333us/step - loss: 0.0269 - acc: 0.9907\n",
      "Epoch 39/50\n",
      "25558/25558 [==============================] - 9s 336us/step - loss: 0.0234 - acc: 0.9915\n",
      "Epoch 40/50\n",
      "25558/25558 [==============================] - 9s 334us/step - loss: 0.0298 - acc: 0.9892\n",
      "Epoch 41/50\n",
      "25558/25558 [==============================] - 9s 336us/step - loss: 0.0227 - acc: 0.9914\n",
      "Epoch 42/50\n",
      "25558/25558 [==============================] - 9s 335us/step - loss: 0.0232 - acc: 0.9917\n",
      "Epoch 43/50\n",
      "25558/25558 [==============================] - 9s 335us/step - loss: 0.0254 - acc: 0.9902\n",
      "Epoch 44/50\n",
      "25558/25558 [==============================] - 9s 334us/step - loss: 0.0223 - acc: 0.9917\n",
      "Epoch 45/50\n",
      "25558/25558 [==============================] - 9s 335us/step - loss: 0.0243 - acc: 0.9911\n",
      "Epoch 46/50\n",
      "25558/25558 [==============================] - 9s 333us/step - loss: 0.0209 - acc: 0.9926\n",
      "Epoch 47/50\n",
      "25558/25558 [==============================] - 8s 332us/step - loss: 0.0202 - acc: 0.9929\n",
      "Epoch 48/50\n",
      "25558/25558 [==============================] - 9s 333us/step - loss: 0.0218 - acc: 0.9921\n",
      "Epoch 49/50\n",
      "25558/25558 [==============================] - 8s 332us/step - loss: 0.0230 - acc: 0.9915\n",
      "Epoch 50/50\n",
      "25558/25558 [==============================] - 8s 330us/step - loss: 0.0167 - acc: 0.9942\n"
     ]
    },
    {
     "data": {
      "text/plain": [
       "<keras.callbacks.History at 0x7f1f01972a10>"
      ]
     },
     "execution_count": 9,
     "metadata": {},
     "output_type": "execute_result"
    }
   ],
   "source": [
    "\n",
    "\n",
    "model.fit(x=x_train, y=y_train, epochs = num_epochs, batch_size = size_batch)"
   ]
  },
  {
   "cell_type": "code",
   "execution_count": 11,
   "metadata": {},
   "outputs": [
    {
     "name": "stdout",
     "output_type": "stream",
     "text": [
      "acc: 99.77%\n"
     ]
    }
   ],
   "source": [
    "scores = model.evaluate(x_train, y_train, verbose = 0)\n",
    "print(\"%s: %.2f%%\" % (model.metrics_names[1], scores[1]*100))"
   ]
  },
  {
   "cell_type": "markdown",
   "metadata": {},
   "source": [
    "#### Save Model"
   ]
  },
  {
   "cell_type": "code",
   "execution_count": 12,
   "metadata": {},
   "outputs": [
    {
     "name": "stdout",
     "output_type": "stream",
     "text": [
      "Saved Model as JSON file\n"
     ]
    }
   ],
   "source": [
    "model_json = model.to_json()\n",
    "with open(\"model.json\", \"w\") as json_file:\n",
    "    json_file.write(model_json)\n",
    "print(\"Saved Model as JSON file\")"
   ]
  },
  {
   "cell_type": "code",
   "execution_count": null,
   "metadata": {},
   "outputs": [],
   "source": []
  },
  {
   "cell_type": "markdown",
   "metadata": {},
   "source": [
    "### Testing"
   ]
  },
  {
   "cell_type": "code",
   "execution_count": null,
   "metadata": {},
   "outputs": [],
   "source": [
    "fig = plt.fig(figsize = (14,14))\n"
   ]
  },
  {
   "cell_type": "code",
   "execution_count": null,
   "metadata": {},
   "outputs": [],
   "source": []
  },
  {
   "cell_type": "code",
   "execution_count": null,
   "metadata": {},
   "outputs": [],
   "source": []
  },
  {
   "cell_type": "code",
   "execution_count": null,
   "metadata": {},
   "outputs": [],
   "source": []
  },
  {
   "cell_type": "code",
   "execution_count": null,
   "metadata": {},
   "outputs": [],
   "source": []
  },
  {
   "cell_type": "code",
   "execution_count": null,
   "metadata": {},
   "outputs": [],
   "source": []
  },
  {
   "cell_type": "code",
   "execution_count": null,
   "metadata": {},
   "outputs": [],
   "source": []
  }
 ],
 "metadata": {
  "kernelspec": {
   "display_name": "Python 2",
   "language": "python",
   "name": "python2"
  },
  "language_info": {
   "codemirror_mode": {
    "name": "ipython",
    "version": 2
   },
   "file_extension": ".py",
   "mimetype": "text/x-python",
   "name": "python",
   "nbconvert_exporter": "python",
   "pygments_lexer": "ipython2",
   "version": "2.7.12"
  }
 },
 "nbformat": 4,
 "nbformat_minor": 2
}
